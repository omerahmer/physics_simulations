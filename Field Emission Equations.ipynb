{
 "cells": [
  {
   "cell_type": "code",
   "execution_count": null,
   "id": "f47215b5",
   "metadata": {},
   "outputs": [],
   "source": [
    "import math as m\n",
    "import sympy as s\n"
   ]
  },
  {
   "cell_type": "code",
   "execution_count": null,
   "id": "942ce23e",
   "metadata": {},
   "outputs": [],
   "source": [
    "#Current Density of Nanotubes \n",
    "\n",
    "def C_1:\n",
    "    return (e**3)/((8)*(m.pih)*(t)*(y**2)*(m.phi))\n",
    "\n",
    "def C_2:\n",
    "    return 8(pi)(m.sqrt(2m))(m.phi**3/2)(m.theta_y)\n",
    "\n",
    "def y=(e*(eE)**1/2)/m.phi \n",
    "\n",
    "def J:\n",
    "    return (C_1)*(E**2)e**(-C_2/E) #This is the Nordheim-Fowler Equation \n",
    "\n",
    "# e - charge of electron \n",
    "# h- planks constant \n",
    "# m -mass of electron \n",
    "# E- applied field strength (measure in volts per length)\n",
    "# E = v/d where v - applied voltage & d-distance between CNT and condicting material\n",
    "# y- charachterizes strenght in electric field \n",
    "#C_1 and C_2 are constants \n",
    "#J is the current denity for one CNT \n",
    "\n",
    "def J_total:\n",
    "    return(# of nanotubes)*(J)\n",
    "        "
   ]
  },
  {
   "cell_type": "code",
   "execution_count": null,
   "id": "b44d4ba7",
   "metadata": {},
   "outputs": [],
   "source": [
    "#Current Measurements (I_1 and I_2)\n",
    "def I:\n",
    "    return J_total*(A) \n",
    "        \n",
    "#A - area of Surface current density is applied to \n",
    "\n",
    "#For I_1\n",
    "        \n",
    "def A_hole:\n",
    "    return (2)*(m.pi)*(r**2)\n",
    "        \n",
    "#r is the radius of the hole. \n",
    "        \n",
    "def A_1:\n",
    "    return (A_metal) - (A_hole)*(20)\n",
    "        \n",
    "#20 is the number of holes in the conducting surface\n",
    "#A_metal - area of conducting sheet of metal \n",
    "#A_hole - are of the holes in conducting sheet of metal \n",
    "    "
   ]
  },
  {
   "cell_type": "code",
   "execution_count": null,
   "id": "49144f12",
   "metadata": {},
   "outputs": [],
   "source": [
    "# Focal length of Einzel Lense\n",
    "def m.psi(z)\n",
    "    return -m.psi(z-d)+ m.psi(z+d) #total potential\n",
    "\n",
    "def T(z):\n",
    "    return ((m.sqrt(3))*(s.diff(m.psi(z)))/(4*(V_0 - m.psi(z)))\n",
    "        \n",
    "def f\n",
    "    return 1/((T**2)*(d))\n",
    "            \n",
    "# V_o - inital potential corresponding to particle energy \n",
    "# z- distance from the center lens to hole in plate \n",
    "    # z=0 is at the center of the lens\n",
    "    # There are 20 holes in the conducting metal sheet and one einzel lens per hole\n",
    "    # let z be a variable \n",
    "# d- diamter of Einzel lens \n",
    "# psi - Potential form single charge ring \n",
    "    # 2 lenses are at a particular voltage \n",
    "    # Let psi be variable"
   ]
  }
 ],
 "metadata": {
  "kernelspec": {
   "display_name": "Python 3 (ipykernel)",
   "language": "python",
   "name": "python3"
  },
  "language_info": {
   "codemirror_mode": {
    "name": "ipython",
    "version": 3
   },
   "file_extension": ".py",
   "mimetype": "text/x-python",
   "name": "python",
   "nbconvert_exporter": "python",
   "pygments_lexer": "ipython3",
   "version": "3.9.7"
  }
 },
 "nbformat": 4,
 "nbformat_minor": 5
}
