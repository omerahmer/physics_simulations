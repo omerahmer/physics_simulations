{
 "cells": [
  {
   "cell_type": "code",
   "execution_count": 1,
   "metadata": {},
   "outputs": [
    {
     "name": "stdout",
     "output_type": "stream",
     "text": [
      "0.20292207792207798\n"
     ]
    }
   ],
   "source": [
    "'''\n",
    "Theoretical Simulation v1.1\n",
    "Author: Tyler Wang\n",
    "Date: 1/24/2022\n",
    "\n",
    "Heat evolution for EBeam Lithography\n",
    "'''\n",
    "\n",
    "import numpy as np\n",
    "import scipy.constants as const\n",
    "\n",
    "# Add to input hash, please make the numbers the default parameters like we discussed on the previous iteration\n",
    "chargingCurrent = 10e-3 # already exists in current calcs\n",
    "lensResistivity = 1.68e-8 # ohm/m at 20C for Cu\n",
    "lensDensity = 8.96 * 1000 # kg/m^3 at 20C for Cu\n",
    "lensSpecificHeat = 0.385 / 1000 # J/kg/degC at 20C for Cu\n",
    "lensHeight = 1e-3\n",
    "lensArea = 57.82e-6\n",
    "lensInnerRadius = 0.75e-3\n",
    "lensOuterRadius = 1.95e-3\n",
    "lithographyTime = 10 * 60 # 10 minutes\n",
    "\n",
    "# new outputs\n",
    "lensThickness = lensOuterRadius - lensInnerRadius\n",
    "lensLength = lensArea / lensThickness\n",
    "lensResistance = lensResistivity * lensLength / lensHeight / lensThickness\n",
    "lensPowerConsumption = chargingCurrent**2 * lensResistance\n",
    "lensEnergyConsumptionAndHeatEvolution = lensPowerConsumption * lithographyTime\n",
    "lensMass = lensDensity * lensArea * lensHeight\n",
    "lensHeatCapacity = lensMass * lensSpecificHeat\n",
    "lensMaximumTemperatureChange = lensEnergyConsumptionAndHeatEvolution / lensHeatCapacity \n",
    "print(lensMaximumTemperatureChange)"
   ]
  }
 ],
 "metadata": {
  "interpreter": {
   "hash": "c2cf105d9fef24e36a66735fa1ce3b91e69c2ff797a7d73e1411b9b340bc4d4e"
  },
  "kernelspec": {
   "display_name": "Python 3.9.4 64-bit ('TLS': conda)",
   "language": "python",
   "name": "python3"
  },
  "language_info": {
   "codemirror_mode": {
    "name": "ipython",
    "version": 3
   },
   "file_extension": ".py",
   "mimetype": "text/x-python",
   "name": "python",
   "nbconvert_exporter": "python",
   "pygments_lexer": "ipython3",
   "version": "3.9.4"
  },
  "orig_nbformat": 4
 },
 "nbformat": 4,
 "nbformat_minor": 2
}
